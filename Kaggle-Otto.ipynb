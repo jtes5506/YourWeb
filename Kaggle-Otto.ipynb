{
 "cells": [
  {
   "cell_type": "code",
   "execution_count": 1,
   "metadata": {},
   "outputs": [
    {
     "name": "stdout",
     "output_type": "stream",
     "text": [
      "【訊息】目前的工作目錄: D:\\Mypython\n"
     ]
    }
   ],
   "source": [
    "# -*- coding: utf-8 -*-\n",
    "import os as os\n",
    "import pandas as pd\n",
    "import numpy as np\n",
    "import pickle\n",
    "import pyodbc\n",
    "import glob\n",
    "import csv\n",
    "import random\n",
    "import time\n",
    "import preprocessing\n",
    "from sklearn.ensemble import RandomForestClassifier\n",
    "from sklearn import preprocessing\n",
    "from sklearn.preprocessing import StandardScaler\n",
    "from sklearn.neighbors import KNeighborsClassifier\n",
    "from sklearn.ensemble import AdaBoostClassifier\n",
    "from sklearn.linear_model import LogisticRegression\n",
    "from xgboost import XGBClassifier\n",
    "# import csv\n",
    "# import savReaderWriter as spss\n",
    "print(\"【訊息】目前的工作目錄:\",os.getcwd())"
   ]
  },
  {
   "cell_type": "code",
   "execution_count": 2,
   "metadata": {},
   "outputs": [
    {
     "name": "stdout",
     "output_type": "stream",
     "text": [
      "Class_7\n",
      "7\n"
     ]
    }
   ],
   "source": [
    "trainlabel = []\n",
    "row = [1,0,0,1,1,0,1,1,\"Class_7\"]\n",
    "table = {\"Class_1\":1,\"Class_2\":2,\"Class_3\":3,\"Class_4\":4,\"Class_5\":5,\"Class_6\":6,\"Class_7\":7,\"Class_8\":8,\"Class_9\":9}\n",
    "trainlabel.append(table.get(row[-1]))\n",
    "print(row[-1])\n",
    "print(table.get(row[-1]))"
   ]
  },
  {
   "cell_type": "code",
   "execution_count": null,
   "metadata": {},
   "outputs": [],
   "source": [
    "mean = traindata.mean(axis=0)  #平均\n",
    "# axis = 0：壓縮行，對各列求均值，返回 1 * n 矩陣\n",
    "# axis = 1 ：壓縮列，對各行求均值，返回 m * 1 矩陣\n",
    "std = traindata.std(axis=0) #標準差\n"
   ]
  },
  {
   "cell_type": "code",
   "execution_count": 3,
   "metadata": {},
   "outputs": [
    {
     "name": "stdout",
     "output_type": "stream",
     "text": [
      "Original list :  [7, 14, 21, 28, 35, 42, 49, 56, 63, 70]\n",
      "List after first shuffle  :  [56, 70, 14, 42, 63, 49, 21, 35, 28, 7]\n",
      "List after second shuffle :  [35, 56, 21, 63, 7, 42, 28, 70, 49, 14]\n"
     ]
    }
   ],
   "source": [
    "import random\n",
    "number_list = [7, 14, 21, 28, 35, 42, 49, 56, 63, 70]\n",
    "print (\"Original list : \",  number_list)\n",
    "\n",
    "\n",
    "random.shuffle(number_list) #洗牌\n",
    "print (\"List after first shuffle  : \",  number_list)\n",
    "\n",
    "random.shuffle(number_list)\n",
    "print (\"List after second shuffle : \",  number_list)"
   ]
  },
  {
   "cell_type": "code",
   "execution_count": 4,
   "metadata": {},
   "outputs": [
    {
     "name": "stdout",
     "output_type": "stream",
     "text": [
      "Original String list:  ['Paint It Black', 'Gimme Shelter', 'Sympathy for the Devil', 'Satisfaction', 'You Cant Always Get What You Want']\n",
      "String List after the first shuffle  :  ['Satisfaction', 'Sympathy for the Devil', 'Gimme Shelter', 'You Cant Always Get What You Want', 'Paint It Black']\n",
      "String List after the second shuffle :  ['Sympathy for the Devil', 'You Cant Always Get What You Want', 'Gimme Shelter', 'Satisfaction', 'Paint It Black']\n"
     ]
    }
   ],
   "source": [
    "import random\n",
    "string_list = [\"Paint It Black\", \"Gimme Shelter\", \"Sympathy for the Devil\", \"Satisfaction\", \"You Cant Always Get What You Want\"]\n",
    "print (\"Original String list: \",  string_list)\n",
    "\n",
    "random.shuffle(string_list) #洗牌\n",
    "print (\"String List after the first shuffle  : \",  string_list)\n",
    "\n",
    "random.shuffle(string_list)\n",
    "print (\"String List after the second shuffle : \",  string_list)"
   ]
  },
  {
   "cell_type": "code",
   "execution_count": 5,
   "metadata": {},
   "outputs": [
    {
     "data": {
      "text/plain": [
       "[1, 2, 3, 4, 5, 6, 7, 8, 9]"
      ]
     },
     "execution_count": 5,
     "metadata": {},
     "output_type": "execute_result"
    }
   ],
   "source": [
    "list(range(1,10))"
   ]
  },
  {
   "cell_type": "code",
   "execution_count": 6,
   "metadata": {},
   "outputs": [
    {
     "name": "stdout",
     "output_type": "stream",
     "text": [
      "[0, 1, 2, 3, 4, 5, 6, 7, 8, 9]\n"
     ]
    }
   ],
   "source": [
    "randomIndex = [i for i in range(10)]\n",
    "print(randomIndex)"
   ]
  },
  {
   "cell_type": "code",
   "execution_count": 7,
   "metadata": {},
   "outputs": [],
   "source": [
    " test123 = pd.read_csv(r'D:\\Mypython\\train.csv',sep=',',header=0,engine='python')"
   ]
  },
  {
   "cell_type": "code",
   "execution_count": 8,
   "metadata": {},
   "outputs": [
    {
     "name": "stdout",
     "output_type": "stream",
     "text": [
      "1    0\n",
      "2    0\n",
      "3    1\n",
      "4    0\n",
      "Name: feat_1, dtype: int64\n"
     ]
    }
   ],
   "source": [
    "print(test123[1:5]['feat_1'])"
   ]
  },
  {
   "cell_type": "code",
   "execution_count": null,
   "metadata": {},
   "outputs": [],
   "source": []
  },
  {
   "cell_type": "code",
   "execution_count": 73,
   "metadata": {},
   "outputs": [
    {
     "name": "stdout",
     "output_type": "stream",
     "text": [
      "[7, 6, 4, 1, 5, 3, 8, 2]\n"
     ]
    }
   ],
   "source": [
    "x = [1,2,3,4,5,6,7,8]\n",
    "random.shuffle(x)\n",
    "print(list(x))"
   ]
  },
  {
   "cell_type": "code",
   "execution_count": 58,
   "metadata": {},
   "outputs": [
    {
     "name": "stdout",
     "output_type": "stream",
     "text": [
      "9\n"
     ]
    }
   ],
   "source": [
    "cc = []\n",
    "cc.append(df['target'])\n",
    "print(cc[0][60000])"
   ]
  },
  {
   "cell_type": "code",
   "execution_count": null,
   "metadata": {},
   "outputs": [],
   "source": []
  },
  {
   "cell_type": "code",
   "execution_count": 266,
   "metadata": {},
   "outputs": [
    {
     "name": "stdout",
     "output_type": "stream",
     "text": [
      "[11, 22, 33, [11, 22, 33], [11, 22, 33], [11, 22, 33], [[11, 22, 33], [14, 25, 36]], [[11, 22, 33], [14, 25, 36]], [[11, 22, 33], [14, 25, 36]], [[11, 22, 33]], [[11, 22, 33]], [[11, 22, 33]], [[11, 22, 33]], [[11, 22, 33]], [[11, 22, 33]], [[11, 22, 33]], [[11, 22, 33]], [[11, 22, 33]], [[11, 22, 33]], [[11, 22, 33]]]\n",
      "20\n"
     ]
    }
   ],
   "source": [
    "x = [[11,22,33],[14,25,36],[74,85,96]]\n",
    "b =x\n",
    "aa.append(b[0:2][0:1])\n",
    "print(aa)\n",
    "print(len(aa))"
   ]
  },
  {
   "cell_type": "code",
   "execution_count": 11,
   "metadata": {
    "scrolled": true
   },
   "outputs": [
    {
     "name": "stdout",
     "output_type": "stream",
     "text": [
      "['feat_1', 'feat_2', 'feat_3', 'feat_4', 'feat_5', 'feat_6', 'feat_7', 'feat_8', 'feat_9', 'feat_10', 'feat_11', 'feat_12', 'feat_13', 'feat_14', 'feat_15', 'feat_16', 'feat_17', 'feat_18', 'feat_19', 'feat_20', 'feat_21', 'feat_22', 'feat_23', 'feat_24', 'feat_25', 'feat_26', 'feat_27', 'feat_28', 'feat_29', 'feat_30', 'feat_31', 'feat_32', 'feat_33', 'feat_34', 'feat_35', 'feat_36', 'feat_37', 'feat_38', 'feat_39', 'feat_40', 'feat_41', 'feat_42', 'feat_43', 'feat_44', 'feat_45', 'feat_46', 'feat_47', 'feat_48', 'feat_49', 'feat_50', 'feat_51', 'feat_52', 'feat_53', 'feat_54', 'feat_55', 'feat_56', 'feat_57', 'feat_58', 'feat_59', 'feat_60', 'feat_61', 'feat_62', 'feat_63', 'feat_64', 'feat_65', 'feat_66', 'feat_67', 'feat_68', 'feat_69', 'feat_70', 'feat_71', 'feat_72', 'feat_73', 'feat_74', 'feat_75', 'feat_76', 'feat_77', 'feat_78', 'feat_79', 'feat_80', 'feat_81', 'feat_82', 'feat_83', 'feat_84', 'feat_85', 'feat_86', 'feat_87', 'feat_88', 'feat_89', 'feat_90', 'feat_91', 'feat_92', 'feat_93', 'target']\n"
     ]
    }
   ],
   "source": [
    "traindata = []\n",
    "trainlabel = []\n",
    "df=pd.read_csv(r'D:\\Mypython\\train.csv', sep=',', index_col=0, header=0)\n",
    "print(list(df.columns))\n",
    "df['target'] = df['target'].str[-1].astype(int)\n",
    "for i in range(1,len(df)):\n",
    "    l = []\n",
    "    l = df.loc[i,df.columns[0:93]]\n",
    "    traindata.append(l)\n",
    "    trainlabel.append(df.loc[i,df.columns[-1]])\n",
    "traindata = np.array(traindata,dtype=\"float\")\n",
    "trainlabel = np.array(trainlabel,dtype=\"int\")\n",
    "mean = traindata.mean(axis=0)\n",
    "std = traindata.std(axis=0)\n",
    "traindata = (traindata - mean)/std"
   ]
  },
  {
   "cell_type": "code",
   "execution_count": 3,
   "metadata": {},
   "outputs": [],
   "source": [
    "randomIndex = [i for i in range(len(trainlabel))]\n",
    "random.shuffle(randomIndex)\n",
    "traindata = traindata[randomIndex]\n",
    "trainlabel = trainlabel[randomIndex]"
   ]
  },
  {
   "cell_type": "code",
   "execution_count": 4,
   "metadata": {},
   "outputs": [],
   "source": [
    "def evaluation(label,pred_label):\n",
    "    num = len(label)\n",
    "    logloss = 0.0\n",
    "    for i in range(num):\n",
    "        p = max(min(pred_label[i][label[i]-1],1-10**(-15)),10**(-15))\n",
    "        logloss += np.log(p)\n",
    "    logloss = -1*logloss/num\n",
    "    return logloss"
   ]
  },
  {
   "cell_type": "code",
   "execution_count": 5,
   "metadata": {},
   "outputs": [
    {
     "name": "stdout",
     "output_type": "stream",
     "text": [
      "5000\n",
      "5000\n",
      "56877\n",
      "56877\n"
     ]
    }
   ],
   "source": [
    "data = traindata\n",
    "label = trainlabel\n",
    "val_data = data[0:5000]\n",
    "val_label = label[0:5000]\n",
    "train_data = data[5000:]\n",
    "train_label = label[5000:]\n",
    "print(len(val_data))\n",
    "print(len(val_label))\n",
    "print(len(train_data))\n",
    "print(len(train_label))"
   ]
  },
  {
   "cell_type": "code",
   "execution_count": 12,
   "metadata": {},
   "outputs": [
    {
     "name": "stdout",
     "output_type": "stream",
     "text": [
      "0.5422371151998003\n"
     ]
    }
   ],
   "source": [
    "rfClf = RandomForestClassifier(criterion='gini', n_jobs=-1, n_estimators=500, max_features=18, min_samples_split=5, max_depth=46, class_weight=None)\n",
    "rfClf.fit(train_data,train_label)\n",
    "val_pred_label = rfClf.predict_proba(val_data)\n",
    "logloss = evaluation(val_label,val_pred_label)\n",
    "print(logloss)"
   ]
  },
  {
   "cell_type": "code",
   "execution_count": 13,
   "metadata": {},
   "outputs": [
    {
     "name": "stdout",
     "output_type": "stream",
     "text": [
      "5.041519564009141\n"
     ]
    }
   ],
   "source": [
    "knnClf = KNeighborsClassifier(n_neighbors=2, n_jobs=-1)\n",
    "knnClf.fit(train_data,train_label)\n",
    "val_pred_label = knnClf.predict_proba(val_data)\n",
    "logloss = evaluation(val_label,val_pred_label)\n",
    "print(logloss)"
   ]
  },
  {
   "cell_type": "code",
   "execution_count": 9,
   "metadata": {},
   "outputs": [
    {
     "name": "stdout",
     "output_type": "stream",
     "text": [
      "8.137335718641046\n",
      "5.215876999217019\n",
      "2.949814280076158\n",
      "1.736795396450221\n",
      "1.1475048041645697\n",
      "0.8661310629205038\n",
      "0.7432668398856142\n",
      "0.7328532193216395\n",
      "0.7533677869720757\n",
      "0.8048344997459118\n",
      "0.8819365339019876\n"
     ]
    }
   ],
   "source": [
    "KK =[]\n",
    "for i in range(0,11):\n",
    "    knnClf = KNeighborsClassifier(n_neighbors=2**i, n_jobs=-1)\n",
    "    knnClf.fit(train_data,train_label)\n",
    "    val_pred_label = knnClf.predict_proba(val_data)\n",
    "    logloss = evaluation(val_label,val_pred_label)\n",
    "    KK = KK + [logloss]\n",
    "    print(logloss)"
   ]
  },
  {
   "cell_type": "code",
   "execution_count": 16,
   "metadata": {},
   "outputs": [
    {
     "name": "stdout",
     "output_type": "stream",
     "text": [
      "2.015679942877399\n"
     ]
    }
   ],
   "source": [
    "rfClf = AdaBoostClassifier()\n",
    "rfClf.fit(train_data,train_label)\n",
    "val_pred_label = rfClf.predict_proba(val_data)\n",
    "logloss = evaluation(val_label,val_pred_label)\n",
    "print(logloss)"
   ]
  },
  {
   "cell_type": "code",
   "execution_count": 8,
   "metadata": {},
   "outputs": [
    {
     "name": "stdout",
     "output_type": "stream",
     "text": [
      "0.6611934217752667\n"
     ]
    }
   ],
   "source": [
    "rfClf =  LogisticRegression(penalty='l2', solver='lbfgs', n_jobs=-1, C=0.01, class_weight=None, multi_class='multinomial')\n",
    "rfClf.fit(train_data,train_label)\n",
    "val_pred_label = rfClf.predict_proba(val_data)\n",
    "logloss = evaluation(val_label,val_pred_label)\n",
    "print(logloss)"
   ]
  },
  {
   "cell_type": "code",
   "execution_count": 8,
   "metadata": {},
   "outputs": [
    {
     "name": "stdout",
     "output_type": "stream",
     "text": [
      "2.067233425116539\n"
     ]
    }
   ],
   "source": [
    "rfClf =XGBClassifier(base_score=0.5, colsample_bylevel=1,\n",
    "                             colsample_bytree=0.6, gamma=0,\n",
    "                             learning_rate=0.03, max_delta_step=0, max_depth=28,\n",
    "                             min_child_weight=6, n_estimators=2, nthread=-1,\n",
    "                             objective='multi:softprob', reg_alpha=0, reg_lambda=1,\n",
    "                             scale_pos_weight=1, seed=0, silent=True, subsample=0.8)\n",
    "\n",
    "rfClf.fit(train_data,train_label)\n",
    "val_pred_label = rfClf.predict_proba(val_data)\n",
    "logloss = evaluation(val_label,val_pred_label)\n",
    "print(logloss)"
   ]
  }
 ],
 "metadata": {
  "kernelspec": {
   "display_name": "Python 3",
   "language": "python",
   "name": "python3"
  },
  "language_info": {
   "codemirror_mode": {
    "name": "ipython",
    "version": 3
   },
   "file_extension": ".py",
   "mimetype": "text/x-python",
   "name": "python",
   "nbconvert_exporter": "python",
   "pygments_lexer": "ipython3",
   "version": "3.7.1"
  }
 },
 "nbformat": 4,
 "nbformat_minor": 2
}
